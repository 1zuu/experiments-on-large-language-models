{
 "cells": [
  {
   "cell_type": "code",
   "execution_count": null,
   "metadata": {},
   "outputs": [],
   "source": [
    "import os, torch\n",
    "import transformers\n",
    "import pandas as pd\n",
    "import torch.nn as nn\n",
    "import bitsandbytes as bnb\n",
    "from datasets import load_dataset\n",
    "from huggingface_hub import notebook_login\n",
    "from peft import prepare_model_for_int8_training, LoraConfig, get_peft_model\n",
    "from transformers import AutoTokenizer, AutoModel, AutoConfig, GPTJForCausalLM"
   ]
  },
  {
   "attachments": {},
   "cell_type": "markdown",
   "metadata": {},
   "source": [
    "# Load Data & Weights"
   ]
  },
  {
   "cell_type": "code",
   "execution_count": null,
   "metadata": {},
   "outputs": [],
   "source": [
    "tokenizer = AutoTokenizer.from_pretrained(\"EleutherAI/gpt-j-6B\")\n",
    "alpaca_data = load_dataset(\n",
    "                        \"json\", \n",
    "                        data_files=\"./AlpacaDataCleaned/alpaca_data.json\"\n",
    "                        )"
   ]
  },
  {
   "cell_type": "code",
   "execution_count": null,
   "metadata": {},
   "outputs": [],
   "source": [
    "sample_instructions = alpaca_data[\"train\"][\"instruction\"]\n",
    "sample_inputs = alpaca_data[\"train\"][\"input\"]\n",
    "sample_outputs = alpaca_data[\"train\"][\"output\"]\n",
    "\n",
    "df_sample = pd.DataFrame(\n",
    "    {\n",
    "        \"instruction\": sample_instructions,\n",
    "        \"input\": sample_inputs,\n",
    "        \"output\": sample_outputs,\n",
    "    }\n",
    ")\n",
    "\n",
    "df_sample.head()"
   ]
  },
  {
   "cell_type": "code",
   "execution_count": null,
   "metadata": {},
   "outputs": [],
   "source": [
    "def generate_prompt(data_point): # Prompt with and without instructions\n",
    "    if data_point[\"instruction\"]:\n",
    "        return f\"\"\"Below is an instruction that describes a task, paired with an input that provides further context. Write a response that appropriately completes the request.\n",
    "\n",
    "                    ### Instruction:\n",
    "                    {data_point[\"instruction\"]}\n",
    "\n",
    "                    ### Input:\n",
    "                    {data_point[\"input\"]}\n",
    "\n",
    "                    ### Response:\n",
    "                    {data_point[\"output\"]}\"\"\"\n",
    "    else:\n",
    "        return f\"\"\"Below is an instruction that describes a task. Write a response that appropriately completes the request.\n",
    "\n",
    "                    ### Instruction:\n",
    "                    {data_point[\"instruction\"]}\n",
    "\n",
    "                    ### Response:\n",
    "                    {data_point[\"output\"]}\"\"\"\n",
    "\n",
    "alpaca_data = alpaca_data.map(lambda data_point : {\"prompt\": tokenizer(generate_prompt(data_point))})\n",
    "alpaca_data"
   ]
  },
  {
   "attachments": {},
   "cell_type": "markdown",
   "metadata": {},
   "source": [
    "# Hparams"
   ]
  },
  {
   "cell_type": "code",
   "execution_count": null,
   "metadata": {},
   "outputs": [],
   "source": [
    "EPOCHS = 1\n",
    "LORA_R = 4\n",
    "BATCH_SIZE = 32\n",
    "LORA_ALPHA = 16\n",
    "CUTOFF_LEN = 256  \n",
    "LORA_DROPOUT = 0.05\n",
    "LEARNING_RATE = 2e-5  \n",
    "MICRO_BATCH_SIZE = 2\n",
    "GRADIENT_ACCUMULATION_STEPS = BATCH_SIZE // MICRO_BATCH_SIZE"
   ]
  },
  {
   "attachments": {},
   "cell_type": "markdown",
   "metadata": {},
   "source": [
    "# Configure Model"
   ]
  },
  {
   "cell_type": "code",
   "execution_count": null,
   "metadata": {},
   "outputs": [],
   "source": [
    "tokenizer = AutoTokenizer.from_pretrained(\n",
    "                                        \"EleutherAI/gpt-j-6B\",\n",
    "                                        add_eos_token=True, \n",
    "                                        )\n",
    "\n",
    "model = GPTJForCausalLM.from_pretrained(\n",
    "                                        \"EleutherAI/gpt-j-6B\",\n",
    "                                        load_in_8bit=True, # load in 8bit\n",
    "                                        device_map=\"auto\", \n",
    "                                        )\n",
    "\n",
    "\n",
    "model = prepare_model_for_int8_training(model, use_gradient_checkpointing=True)"
   ]
  },
  {
   "attachments": {},
   "cell_type": "markdown",
   "metadata": {},
   "source": [
    "# Configure Lora Finetuning"
   ]
  },
  {
   "cell_type": "code",
   "execution_count": null,
   "metadata": {},
   "outputs": [],
   "source": [
    "config = LoraConfig(\n",
    "                    r=LORA_R,\n",
    "                    lora_alpha=LORA_ALPHA,\n",
    "                    target_modules=[\"q_proj\", \"v_proj\"],\n",
    "                    lora_dropout=LORA_DROPOUT,\n",
    "                    bias=\"none\",\n",
    "                    task_type=\"CAUSAL_LM\",\n",
    "                    )\n",
    "model = get_peft_model(model, config)\n",
    "tokenizer.pad_token_id = 0  # unk. we want this to be different from the eos token\n",
    "data = load_dataset(\n",
    "                    \"json\", \n",
    "                    data_files=\"AlpacaDataCleaned/alpaca_data_cleaned.json\"\n",
    "                    )"
   ]
  },
  {
   "cell_type": "code",
   "execution_count": null,
   "metadata": {},
   "outputs": [],
   "source": [
    "data = data.shuffle().map(\n",
    "                        lambda data_point: tokenizer(\n",
    "                                                    generate_prompt(data_point),\n",
    "                                                    truncation=True,\n",
    "                                                    max_length=CUTOFF_LEN,\n",
    "                                                    padding=\"max_length\",\n",
    "                                                    )\n",
    "                        )"
   ]
  },
  {
   "cell_type": "code",
   "execution_count": null,
   "metadata": {},
   "outputs": [],
   "source": [
    "trainer = transformers.Trainer(\n",
    "                            model=model,\n",
    "                            train_dataset=data[\"train\"],\n",
    "                            args=transformers.TrainingArguments(\n",
    "                                                            per_device_train_batch_size=MICRO_BATCH_SIZE,\n",
    "                                                            gradient_accumulation_steps=GRADIENT_ACCUMULATION_STEPS,\n",
    "                                                            warmup_steps=100,\n",
    "                                                            num_train_epochs=EPOCHS,\n",
    "                                                            learning_rate=LEARNING_RATE,\n",
    "                                                            fp16=True,\n",
    "                                                            logging_steps=1,\n",
    "                                                            output_dir=\"lora-dolly\",\n",
    "                                                            save_total_limit=3,\n",
    "                                                            ),\n",
    "                            data_collator=transformers.DataCollatorForLanguageModeling(\n",
    "                                                                                    tokenizer, \n",
    "                                                                                    mlm=False\n",
    "                                                                                    ),\n",
    "                            )\n",
    "\n",
    "model.config.use_cache = False\n",
    "trainer.train(resume_from_checkpoint=False)\n",
    "model.save_pretrained(\"models/gptj6b-lora-dolly\")"
   ]
  },
  {
   "cell_type": "code",
   "execution_count": null,
   "metadata": {},
   "outputs": [],
   "source": [
    "notebook_login()\n",
    "model.push_to_hub(\n",
    "                 \"zuu/dolly-lora\", \n",
    "                 use_auth_token=True\n",
    "                 )"
   ]
  }
 ],
 "metadata": {
  "kernelspec": {
   "display_name": "torch113",
   "language": "python",
   "name": "python3"
  },
  "language_info": {
   "codemirror_mode": {
    "name": "ipython",
    "version": 3
   },
   "file_extension": ".py",
   "mimetype": "text/x-python",
   "name": "python",
   "nbconvert_exporter": "python",
   "pygments_lexer": "ipython3",
   "version": "3.8.16"
  },
  "orig_nbformat": 4
 },
 "nbformat": 4,
 "nbformat_minor": 2
}
